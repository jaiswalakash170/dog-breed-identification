{
  "nbformat": 4,
  "nbformat_minor": 0,
  "metadata": {
    "colab": {
      "name": "dog-breed-identification.ipynb",
      "provenance": []
    },
    "kernelspec": {
      "name": "python3",
      "display_name": "Python 3"
    },
    "language_info": {
      "name": "python"
    },
    "accelerator": "GPU"
  },
  "cells": [
    {
      "cell_type": "markdown",
      "metadata": {
        "id": "As1fhZ0M7FZJ"
      },
      "source": [
        "**Unzip the uploaded data files**"
      ]
    },
    {
      "cell_type": "code",
      "metadata": {
        "id": "aiVeUGBl4MPI"
      },
      "source": [
        "# !unzip \"drive/MyDrive/Dog Vision/dog-breed-identification.zip\" -d \"drive/MyDrive/Dog Vision/\""
      ],
      "execution_count": 7,
      "outputs": []
    },
    {
      "cell_type": "markdown",
      "metadata": {
        "id": "GvkzrMS0_FZP"
      },
      "source": [
        "# End-to-end multi-class Dog Breed Classification\n",
        "This notebook builds an end-to-end multi-class image classifier using TensorFlow 2.5.0 and TensorFlow Hub.\n",
        "\n",
        "## 1. Problem\n",
        "Identifing the breed of dog using a given image of the dog.\n",
        "When I'm sitting in a cafe and I take a photo of a dog, I want to know what breed of dog it is.\n",
        "\n",
        "## 2. Data\n",
        "The data that we are using is from Kaggle's Dog Breed Identification competition.\n",
        "https://www.kaggle.com/c/dog-breed-identification/data\n",
        "\n",
        "## 3. Evaluation\n",
        "Submissions are evaluated on Multi Class Log Loss between the predicted probability and the observed target.\n",
        "https://www.kaggle.com/c/dog-breed-identification/overview/evaluation\n",
        "\n",
        "For each image in the test set, you must predict a probability for each of the different breeds. The file should contain a header and have the following format:\n",
        "\n",
        "id,affenpinscher,afghan_hound,..,yorkshire_terrier\n",
        "000621fb3cbb32d8935728e48679680e,0.0083,0.0,...,0.0083\n",
        "etc.\n",
        "\n",
        "## 4. Features\n",
        "Some information about the data:\n",
        "* We're dealing with images (unstructured data), so it's probably best we use Deep Learning / Transfer Learning.\n",
        "* There are 120 breeds of dogs (This means there are 120 different classes.\n",
        "* There are around 10,000+ images in the training set (These images have labels).\n",
        "* There around 10,000+ images in the test set (these images will have no labels, because we want to predict them).\n",
        "\n"
      ]
    },
    {
      "cell_type": "markdown",
      "metadata": {
        "id": "JejmfdtUDBji"
      },
      "source": [
        "# Get our workspace ready\n",
        "\n",
        "* Import TensorFLow\n",
        "* Import TensorFlow Hub\n",
        "* Make sure we'e using a GPU"
      ]
    },
    {
      "cell_type": "code",
      "metadata": {
        "colab": {
          "base_uri": "https://localhost:8080/"
        },
        "id": "DV36oHWf9woY",
        "outputId": "0f86f03b-292f-43fe-fb67-945f43afe35d"
      },
      "source": [
        "# Import TensorFlow in Colab\n",
        "import tensorflow as tf\n",
        "print(\"TensorFlow Version: \" + tf.__version__)"
      ],
      "execution_count": 3,
      "outputs": [
        {
          "output_type": "stream",
          "text": [
            "TensorFlow Version: 2.5.0\n"
          ],
          "name": "stdout"
        }
      ]
    },
    {
      "cell_type": "code",
      "metadata": {
        "colab": {
          "base_uri": "https://localhost:8080/"
        },
        "id": "2kRzxvesDyiC",
        "outputId": "7ccc3749-248b-4236-83d8-f6a2db50b1c3"
      },
      "source": [
        "# Import TensorFlow Hub\n",
        "import tensorflow_hub as hub\n",
        "print(\"TensorFlow Hub Version: \" + hub.__version__)"
      ],
      "execution_count": 4,
      "outputs": [
        {
          "output_type": "stream",
          "text": [
            "TensorFlow Hub Version: 0.12.0\n"
          ],
          "name": "stdout"
        }
      ]
    },
    {
      "cell_type": "code",
      "metadata": {
        "colab": {
          "base_uri": "https://localhost:8080/"
        },
        "id": "LCZ_pToAHEYi",
        "outputId": "2517f4dd-f506-43b0-deb0-4b62ec5e0e19"
      },
      "source": [
        "# Check for GPU availability\n",
        "# https://research.google.com/colaboratory/faq.html#gpu-availability\n",
        "print(\"GPU\", \" available (YESS!!!!!)\" if tf.config.list_physical_devices(\"GPU\") else \"not available :(\")"
      ],
      "execution_count": 5,
      "outputs": [
        {
          "output_type": "stream",
          "text": [
            "GPU  available (YESS!!!!!)\n"
          ],
          "name": "stdout"
        }
      ]
    },
    {
      "cell_type": "code",
      "metadata": {
        "id": "BnK0Hx0tH9KM"
      },
      "source": [
        "# Change Runtime Type to GPU\n",
        "# Go to Runtime -> Chage Runtime Type -> Select GPU and save"
      ],
      "execution_count": 6,
      "outputs": []
    },
    {
      "cell_type": "code",
      "metadata": {
        "id": "QJPoO4abJBRl"
      },
      "source": [
        ""
      ],
      "execution_count": null,
      "outputs": []
    }
  ]
}